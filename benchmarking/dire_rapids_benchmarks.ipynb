{
  "cells": [
    {
      "cell_type": "markdown",
      "source": [
        "# DiRe RAPIDS Installation"
      ],
      "metadata": {
        "id": "lCMjBICnpKW0"
      }
    },
    {
      "cell_type": "code",
      "source": [
        "# Clone the repository\n",
        "!git clone https://github.com/sashakolpakov/dire-rapids.git\n",
        "%cd dire-rapids\n",
        "# With CUDA support\n",
        "%pip install -e .[cuda]\n",
        "# Install FlowIO for cell data\n",
        "%pip install flowio"
      ],
      "metadata": {
        "id": "El3R6FIYpJyd"
      },
      "execution_count": null,
      "outputs": []
    },
    {
      "cell_type": "markdown",
      "source": [
        "## DiRe Instance Runner"
      ],
      "metadata": {
        "id": "aHdvU4nNpP3L"
      }
    },
    {
      "cell_type": "code",
      "source": [
        "%run /content/dire-rapids/benchmarking/dire_runner.py"
      ],
      "metadata": {
        "id": "ETb6BazsfBul"
      },
      "execution_count": null,
      "outputs": []
    },
    {
      "cell_type": "markdown",
      "source": [
        "## Data Transforms"
      ],
      "metadata": {
        "id": "rIiDucJvpVbA"
      }
    },
    {
      "cell_type": "code",
      "source": [
        "#\n",
        "from sklearn.preprocessing import StandardScaler\n",
        "\n",
        "# --- Common transforms -------------------------------------------------\n",
        "def scale_center(X, y):\n",
        "    X = X.astype(np.float32, copy=False) / 255.0 - 0.5\n",
        "    y = y.astype(np.int32, copy=False) if y is not None else None\n",
        "    return X, y\n",
        "\n",
        "def z_score(X, y):\n",
        "    X = StandardScaler().fit_transform(X.astype(np.float32, copy=False))\n",
        "    y = y.astype(np.int32, copy=False) if y is not None else None\n",
        "    return X, y"
      ],
      "metadata": {
        "id": "va0WH-0g-Yg4"
      },
      "execution_count": null,
      "outputs": []
    },
    {
      "cell_type": "markdown",
      "source": [
        "## Some standard datasets"
      ],
      "metadata": {
        "id": "oFx3NtrhpbU1"
      }
    },
    {
      "cell_type": "code",
      "source": [
        "from dire_rapids import create_dire\n",
        "\n",
        "runner = DiReRunner(\n",
        "    dire_class=create_dire,\n",
        "    dire_kwargs=dict(\n",
        "        backend='auto',\n",
        "        memory_efficient=True,\n",
        "        n_components=2,\n",
        "        n_neighbors=16,\n",
        "        init='pca',\n",
        "        max_iter_layout=64,\n",
        "        min_dist=1e-4,\n",
        "        spread=2.0,\n",
        "        cutoff=2.0,\n",
        "        n_sample_dirs=8,\n",
        "        sample_size=32,\n",
        "        neg_ratio=8,\n",
        "        random_state=42,\n",
        "        verbose=True,\n",
        "        )\n",
        ")\n"
      ],
      "metadata": {
        "id": "cOd5wsatzoqM"
      },
      "execution_count": null,
      "outputs": []
    },
    {
      "cell_type": "markdown",
      "source": [
        "### Blobs"
      ],
      "metadata": {
        "id": "WLS27TJPpejU"
      }
    },
    {
      "cell_type": "code",
      "source": [
        "# Blobs\n",
        "res_blobs = runner.run(\n",
        "    \"sklearn:blobs\",\n",
        "    dataset_kwargs=dict(n_samples=1_000_000, centers=12, n_features=100, random_state=42),\n",
        "    )"
      ],
      "metadata": {
        "id": "bkUrn3gXzohS"
      },
      "execution_count": null,
      "outputs": []
    },
    {
      "cell_type": "markdown",
      "source": [
        "### MNIST Digits (small)"
      ],
      "metadata": {
        "id": "ZRPW420upgal"
      }
    },
    {
      "cell_type": "code",
      "source": [
        "# MNIST Digits (small)\n",
        "res_digits = runner.run(\n",
        "    \"sklearn:load_digits\",\n",
        "    dataset_kwargs=dict(),\n",
        "    )"
      ],
      "metadata": {
        "id": "p-k6KNprzoZE"
      },
      "execution_count": null,
      "outputs": []
    },
    {
      "cell_type": "markdown",
      "source": [
        "### Half-moons"
      ],
      "metadata": {
        "id": "MuZRq-vHpjnR"
      }
    },
    {
      "cell_type": "code",
      "source": [
        "res_moons = runner.run(\n",
        "    \"sklearn:moons\",\n",
        "    dataset_kwargs=dict(n_samples=200_000, noise=0.05, random_state=42),\n",
        "    )"
      ],
      "metadata": {
        "id": "TPkjmEFK7_9w"
      },
      "execution_count": null,
      "outputs": []
    },
    {
      "cell_type": "markdown",
      "source": [
        "### Swiss roll"
      ],
      "metadata": {
        "id": "U2ZGUls5plpN"
      }
    },
    {
      "cell_type": "code",
      "source": [
        "res_swiss = runner.run(\n",
        "    \"sklearn:swiss_roll\",\n",
        "    dataset_kwargs=dict(n_samples=120_000, noise=0.05, random_state=42),\n",
        "    )"
      ],
      "metadata": {
        "id": "bgncubMa7_kx"
      },
      "execution_count": null,
      "outputs": []
    },
    {
      "cell_type": "markdown",
      "source": [
        "### UCI ML Wine dataset"
      ],
      "metadata": {
        "id": "QrFWRGJ7pocE"
      }
    },
    {
      "cell_type": "code",
      "source": [
        "res_wine = runner.run(\n",
        "    \"sklearn:wine\",\n",
        "    dataset_kwargs=dict(random_state=42),\n",
        "    )"
      ],
      "metadata": {
        "id": "SKRQUHNaZ6l5"
      },
      "execution_count": null,
      "outputs": []
    },
    {
      "cell_type": "markdown",
      "source": [
        "### New runner: PCA + DiRe for Classification dataset"
      ],
      "metadata": {
        "id": "RYoePVTqp1ff"
      }
    },
    {
      "cell_type": "code",
      "source": [
        "hd_runner = DiReRunner(\n",
        "    dire_class=create_dire,\n",
        "    dire_kwargs=dict(\n",
        "        backend='auto',\n",
        "        memory_efficient=True,\n",
        "        n_components=2,\n",
        "        n_neighbors=32,\n",
        "        init='pca',\n",
        "        max_iter_layout=64,\n",
        "        min_dist=1e-4,\n",
        "        spread=1.0,\n",
        "        cutoff=16.0,\n",
        "        n_sample_dirs=4,\n",
        "        sample_size=16,\n",
        "        neg_ratio=32,\n",
        "        random_state=42,\n",
        "        verbose=True,\n",
        "        )\n",
        ")\n",
        "\n",
        "\n",
        "# --- PCA *before* kNN ---\n",
        "def pca_factory(n_components=128, whiten: bool = False, random_state: int = 42):\n",
        "    \"\"\"\n",
        "    PCA reducer for high-dim inputs. Uses cuML if available (and backend in {'auto','cuml'}),\n",
        "    otherwise scikit-learn. No z-scoring; PCA centers data internally.\n",
        "    \"\"\"\n",
        "\n",
        "    # --- Check if cuML is available ---\n",
        "    try:\n",
        "        from cuml.decomposition import PCA as cuPCA\n",
        "        _HAS_CUML = True\n",
        "    except Exception:\n",
        "        _HAS_CUML = False\n",
        "\n",
        "    if _HAS_CUML:\n",
        "        # --- cuML PCA ---\n",
        "        def _pca(X, y):\n",
        "          X = np.asarray(X, dtype=np.float32, copy=False)\n",
        "          k = int(min(n_components, X.shape[1]))\n",
        "          pca = cuPCA(n_components=k, whiten=whiten)\n",
        "          Xr = pca.fit_transform(X)\n",
        "          # label coercion kept consistent with runner\n",
        "          if y is not None and getattr(y, \"dtype\", None) is not None and y.dtype.kind in {\"U\",\"S\",\"O\"}:\n",
        "            uniq = {v: i for i, v in enumerate(np.unique(y))}\n",
        "            y = np.array([uniq[v] for v in y], dtype=np.int32)\n",
        "          return np.asarray(Xr, dtype=np.float32, copy=False), y\n",
        "    else:\n",
        "        # --- scikit-learn PCA ---\n",
        "        from sklearn.decomposition import PCA\n",
        "        def _pca(X, y):\n",
        "          X = np.asarray(X, dtype=np.float32, copy=False)\n",
        "          k = int(min(n_components, X.shape[1]))\n",
        "          svd_solver = \"randomized\" if k < min(X.shape[0], X.shape[1]) else \"full\"\n",
        "          pca = PCA(n_components=k, whiten=whiten, svd_solver=svd_solver, random_state=random_state)\n",
        "          Xr = pca.fit_transform(X)\n",
        "          # label coercion kept consistent with runner\n",
        "          if y is not None and getattr(y, \"dtype\", None) is not None and y.dtype.kind in {\"U\",\"S\",\"O\"}:\n",
        "            uniq = {v: i for i, v in enumerate(np.unique(y))}\n",
        "            y = np.array([uniq[v] for v in y], dtype=np.int32)\n",
        "          return np.asarray(Xr, dtype=np.float32, copy=False), y\n",
        "\n",
        "    return _pca\n",
        "\n",
        "# Here having redundant features helps separating the two classes in 2D, while too many informative features make it harder\n",
        "# Smaller sample size with higher negative sampling ratio makes clusters more pronounced\n",
        "res_classification = hd_runner.run(\n",
        "    \"sklearn:classification\",\n",
        "    dataset_kwargs=dict(n_samples=100_000, n_features=2_048, n_informative=32, n_redundant=64, n_repeated=4, n_clusters_per_class=4, random_state=42),\n",
        "    transform=pca_factory(n_components=256, random_state=42),\n",
        "    )"
      ],
      "metadata": {
        "id": "qHTasVjpcWRu"
      },
      "execution_count": null,
      "outputs": []
    },
    {
      "cell_type": "markdown",
      "source": [
        "## OpenML Datasets"
      ],
      "metadata": {
        "id": "7TEeqgs4qBoI"
      }
    },
    {
      "cell_type": "code",
      "source": [
        "openml_runner = DiReRunner(\n",
        "    dire_class=create_dire,\n",
        "    dire_kwargs=dict(\n",
        "        backend='auto',\n",
        "        memory_efficient=True,\n",
        "        n_components=2,\n",
        "        n_neighbors=32,\n",
        "        init='pca',\n",
        "        max_iter_layout=128,\n",
        "        min_dist=1e-4,\n",
        "        spread=1.0,\n",
        "        cutoff=8.0,\n",
        "        n_sample_dirs=4,\n",
        "        sample_size=32,\n",
        "        neg_ratio=16,\n",
        "        random_state=42,\n",
        "        verbose=True,\n",
        "        )\n",
        ")"
      ],
      "metadata": {
        "id": "TFSjvXIviQvU"
      },
      "execution_count": null,
      "outputs": []
    },
    {
      "cell_type": "markdown",
      "source": [
        "### MNIST Digits (70k)"
      ],
      "metadata": {
        "id": "WqNdpWo8qFGN"
      }
    },
    {
      "cell_type": "code",
      "source": [
        "# --- MNIST (70k, 784d) ---------------------------------------------\n",
        "res_mnist = openml_runner.run(\n",
        "    \"openml:mnist_784\",                  # OpenML dataset id 554\n",
        "    dataset_kwargs=dict(as_frame=False, cache=True),\n",
        "    transform=scale_center,\n",
        ")"
      ],
      "metadata": {
        "id": "cTkqJ9b2e5Io"
      },
      "execution_count": null,
      "outputs": []
    },
    {
      "cell_type": "markdown",
      "source": [
        "### Fashion MNIST"
      ],
      "metadata": {
        "id": "rE9pQU0aqKTy"
      }
    },
    {
      "cell_type": "code",
      "source": [
        "# --- Fashion-MNIST (70k, 784d) -------------------------------------\n",
        "res_fashion = openml_runner.run(\n",
        "    \"openml:Fashion-MNIST\",               # OpenML dataset id 40996\n",
        "    dataset_kwargs=dict(as_frame=False, cache=True),\n",
        ")"
      ],
      "metadata": {
        "id": "0BHZn-Z8e_kL"
      },
      "execution_count": null,
      "outputs": []
    },
    {
      "cell_type": "markdown",
      "source": [
        "### UCI HAR Smartphones dataset"
      ],
      "metadata": {
        "id": "l7fd3T5KqN6C"
      }
    },
    {
      "cell_type": "code",
      "source": [
        "# --- UCI HAR (Smartphones) (10k, 561d) -----------------------------\n",
        "res_har = openml_runner.run(\n",
        "    \"openml:4153\",                       # Smartphone-Based HAR\n",
        "    dataset_kwargs=dict(as_frame=False, cache=True),\n",
        "    transform=z_score,\n",
        ")"
      ],
      "metadata": {
        "id": "mUo4pa2oddpz"
      },
      "execution_count": null,
      "outputs": []
    },
    {
      "cell_type": "markdown",
      "source": [
        "## Cytology datasets (Levine)"
      ],
      "metadata": {
        "id": "oAsHRbXbqU0O"
      }
    },
    {
      "cell_type": "code",
      "source": [
        "cyto_runner = DiReRunner(\n",
        "    dire_class=create_dire,\n",
        "    dire_kwargs=dict(\n",
        "                   n_components=2,\n",
        "                   n_neighbors=64,\n",
        "                   init='pca',\n",
        "                   max_iter_layout=64,\n",
        "                   min_dist=1e-4,\n",
        "                   spread=1.0,\n",
        "                   cutoff=4.0,\n",
        "                   n_sample_dirs=16,\n",
        "                   sample_size=16,\n",
        "                   neg_ratio=4,\n",
        "                   random_state=42,\n",
        "                   verbose=True,\n",
        "                   ),\n",
        ")\n"
      ],
      "metadata": {
        "id": "d45k0JjNdjRU"
      },
      "execution_count": null,
      "outputs": []
    },
    {
      "cell_type": "markdown",
      "source": [
        "### Levine 13"
      ],
      "metadata": {
        "id": "H1cMdBnWqaGg"
      }
    },
    {
      "cell_type": "code",
      "source": [
        "res_levine13 = cyto_runner.run(\n",
        "    \"cytof:levine13\",\n",
        "    dataset_kwargs=dict(arcsinh_cofactor=5.0,\n",
        "                        drop_unassigned=True)\n",
        ")"
      ],
      "metadata": {
        "id": "71Q1hknV6_G7"
      },
      "execution_count": null,
      "outputs": []
    },
    {
      "cell_type": "markdown",
      "source": [
        "### Levine 32"
      ],
      "metadata": {
        "id": "NRVe4YPoqj0a"
      }
    },
    {
      "cell_type": "code",
      "source": [
        "res_levine32 = cyto_runner.run(\n",
        "    \"cytof:levine32\",\n",
        "    dataset_kwargs=dict(arcsinh_cofactor=5.0,\n",
        "                        drop_unassigned=True)\n",
        ")"
      ],
      "metadata": {
        "id": "7J84Uwqc6_C_"
      },
      "execution_count": null,
      "outputs": []
    }
  ],
  "metadata": {
    "accelerator": "GPU",
    "colab": {
      "gpuType": "T4",
      "machine_shape": "hm",
      "provenance": []
    },
    "kernelspec": {
      "display_name": "Python 3",
      "name": "python3"
    },
    "language_info": {
      "name": "python"
    }
  },
  "nbformat": 4,
  "nbformat_minor": 0
}