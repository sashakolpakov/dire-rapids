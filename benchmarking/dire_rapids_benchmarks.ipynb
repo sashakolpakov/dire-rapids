{
  "cells": [
    {
      "cell_type": "markdown",
      "metadata": {
        "id": "lCMjBICnpKW0"
      },
      "source": [
        "# DiRe RAPIDS Installation"
      ]
    },
    {
      "cell_type": "markdown",
      "metadata": {
        "id": "lQTiLDUsXjd6"
      },
      "source": [
        "### Development install (uncomment for use)"
      ]
    },
    {
      "cell_type": "code",
      "execution_count": null,
      "metadata": {
        "id": "El3R6FIYpJyd"
      },
      "outputs": [],
      "source": [
        "# Clone the repository\n",
        "!git clone https://github.com/sashakolpakov/dire-rapids.git\n",
        "%cd dire-rapids\n",
        "# Install FlowIO for cell data\n",
        "%pip install flowio\n",
        "# With CUDA support\n",
        "%pip install -e .[cuda]"
      ]
    },
    {
      "cell_type": "markdown",
      "metadata": {
        "id": "0UpQFixZXonQ"
      },
      "source": [
        "### PyPI install (uncomment for use)"
      ]
    },
    {
      "cell_type": "code",
      "execution_count": null,
      "metadata": {
        "id": "xCtRmp4GTfJm"
      },
      "outputs": [],
      "source": [
        "#!pip install dire-rapids\n",
        "#!pip install flowio\n",
        "# Clone the repository to access extra utils\n",
        "#!git clone https://github.com/sashakolpakov/dire-rapids.git\n",
        "#%cd dire-rapids"
      ]
    },
    {
      "cell_type": "markdown",
      "metadata": {
        "id": "aHdvU4nNpP3L"
      },
      "source": [
        "## Reducer Instance Runner"
      ]
    },
    {
      "cell_type": "code",
      "execution_count": null,
      "metadata": {
        "id": "ETb6BazsfBul"
      },
      "outputs": [],
      "source": [
        "from dire_rapids import ReducerConfig, ReducerRunner"
      ]
    },
    {
      "cell_type": "markdown",
      "metadata": {
        "id": "tEZRUDpzGHNy"
      },
      "source": [
        "## Importing Reducer Factories"
      ]
    },
    {
      "cell_type": "code",
      "execution_count": null,
      "metadata": {
        "id": "TWj8cMWSV1e2"
      },
      "outputs": [],
      "source": [
        "from dire_rapids import create_dire\n",
        "from cuml import UMAP\n",
        "from cuml import TSNE"
      ]
    },
    {
      "cell_type": "markdown",
      "metadata": {
        "id": "rIiDucJvpVbA"
      },
      "source": [
        "## Data Transforms"
      ]
    },
    {
      "cell_type": "code",
      "execution_count": null,
      "metadata": {
        "id": "va0WH-0g-Yg4"
      },
      "outputs": [],
      "source": [
        "#\n",
        "import numpy as np\n",
        "from sklearn.preprocessing import StandardScaler\n",
        "\n",
        "# --- Common transforms -------------------------------------------------\n",
        "def scale_center(X, y):\n",
        "    X = X.astype(np.float32, copy=False) / 255.0 - 0.5\n",
        "    y = y.astype(np.int32, copy=False) if y is not None else None\n",
        "    return X, y\n",
        "\n",
        "def z_score(X, y):\n",
        "    X = StandardScaler().fit_transform(X.astype(np.float32, copy=False))\n",
        "    y = y.astype(np.int32, copy=False) if y is not None else None\n",
        "    return X, y"
      ]
    },
    {
      "cell_type": "markdown",
      "source": [
        "## Reducer Configuration and Running"
      ],
      "metadata": {
        "id": "ex8FfkZ2LTk7"
      }
    },
    {
      "cell_type": "code",
      "execution_count": null,
      "metadata": {
        "id": "slA7k9nP5U8T"
      },
      "outputs": [],
      "source": [
        "help(ReducerRunner)"
      ]
    },
    {
      "cell_type": "code",
      "execution_count": null,
      "metadata": {
        "id": "lzlE-q24J_zl"
      },
      "outputs": [],
      "source": [
        "help(ReducerConfig)"
      ]
    },
    {
      "cell_type": "markdown",
      "metadata": {
        "id": "oFx3NtrhpbU1"
      },
      "source": [
        "## Some standard datasets"
      ]
    },
    {
      "cell_type": "code",
      "execution_count": null,
      "metadata": {
        "id": "cOd5wsatzoqM"
      },
      "outputs": [],
      "source": [
        "#\n",
        "# Reducer configration: DiRe\n",
        "#\n",
        "dire_config = ReducerConfig(\n",
        "    name='dire',\n",
        "    reducer_class=create_dire,\n",
        "    reducer_kwargs=dict(\n",
        "        backend='auto',\n",
        "        memory_efficient=True,\n",
        "        n_components=2,\n",
        "        n_neighbors=16,\n",
        "        init='pca',\n",
        "        max_iter_layout=64,\n",
        "        min_dist=1e-4,\n",
        "        spread=2.0,\n",
        "        cutoff=2.0,\n",
        "        n_sample_dirs=8,\n",
        "        sample_size=32,\n",
        "        neg_ratio=8,\n",
        "        random_state=42,\n",
        "        verbose=True,\n",
        "        ),\n",
        "    visualize=True,\n",
        "    categorical_labels=True,\n",
        ")\n",
        "#\n",
        "# Reducer configuration UMAP\n",
        "#\n",
        "umap_config = ReducerConfig(\n",
        "    name='umap',\n",
        "    reducer_class=UMAP,\n",
        "    reducer_kwargs=dict(\n",
        "        n_components=2,\n",
        "        n_neighbors=16,\n",
        "        init='spectral',\n",
        "        verbose=True,\n",
        "    ),\n",
        "    visualize=True,\n",
        "    categorical_labels=True,\n",
        ")\n",
        "#\n",
        "# Reducer configuration tSNE\n",
        "#\n",
        "tsne_config = ReducerConfig(\n",
        "    name='tsne',\n",
        "    reducer_class=TSNE,\n",
        "    reducer_kwargs=dict(\n",
        "        n_components=2,\n",
        "        init='pca',\n",
        "        random_state=42,\n",
        "        verbose=True,\n",
        "    ),\n",
        "    visualize=True,\n",
        "    categorical_labels=True,\n",
        ")"
      ]
    },
    {
      "cell_type": "markdown",
      "metadata": {
        "id": "WLS27TJPpejU"
      },
      "source": [
        "### Blobs"
      ]
    },
    {
      "cell_type": "code",
      "execution_count": null,
      "metadata": {
        "id": "bkUrn3gXzohS"
      },
      "outputs": [],
      "source": [
        "# Blobs\n",
        "runner = ReducerRunner(dire_config)\n",
        "res_blobs_dire = runner.run(\n",
        "    \"sklearn:blobs\",\n",
        "    dataset_kwargs=dict(n_samples=6_000_000, centers=32, n_features=100, random_state=42), # it makes sense to try 100_000 or even 1_000_000 points, and a few dozen centers\n",
        "    )"
      ]
    },
    {
      "cell_type": "code",
      "source": [
        "runner = ReducerRunner(umap_config)\n",
        "res_blobs_umap = runner.run(\n",
        "    \"sklearn:blobs\",\n",
        "    dataset_kwargs=dict(n_samples=6_000_000, centers=32, n_features=100, random_state=42), # it makes sense to try 100_000 or even 1_000_000 points, and a few dozen centers\n",
        "    )"
      ],
      "metadata": {
        "id": "HrcsMA6QYbA0"
      },
      "execution_count": null,
      "outputs": []
    },
    {
      "cell_type": "code",
      "source": [
        "runner = ReducerRunner(tsne_config)\n",
        "res_blobs_tsne = runner.run(\n",
        "    \"sklearn:blobs\",\n",
        "    dataset_kwargs=dict(n_samples=100_000, centers=32, n_features=100, random_state=42), # it makes sense to try 100_000 or even 1_000_000 points, and a few dozen centers\n",
        "    )"
      ],
      "metadata": {
        "id": "SyMMmsGTHhJ6"
      },
      "execution_count": null,
      "outputs": []
    },
    {
      "cell_type": "markdown",
      "source": [
        "### Uniform Distribution inside a Disk"
      ],
      "metadata": {
        "id": "lbZSSvIQWYe3"
      }
    },
    {
      "cell_type": "code",
      "source": [
        "runner = ReducerRunner(dire_config)\n",
        "res_disk_dire = runner.run(\n",
        "    \"dire:disk_uniform\",\n",
        "    dataset_kwargs=dict(n_samples=100_000, n_features=2, random_state=42),\n",
        ")"
      ],
      "metadata": {
        "id": "Xx6IgUAKSYo3"
      },
      "execution_count": null,
      "outputs": []
    },
    {
      "cell_type": "code",
      "source": [
        "runner = ReducerRunner(umap_config)\n",
        "res_disk_umap = runner.run(\n",
        "    \"dire:disk_uniform\",\n",
        "    dataset_kwargs=dict(n_samples=50_000, n_features=2, random_state=42),\n",
        ")"
      ],
      "metadata": {
        "id": "pKQZ3_nNYPrL"
      },
      "execution_count": null,
      "outputs": []
    },
    {
      "cell_type": "code",
      "source": [
        "runner = ReducerRunner(tsne_config)\n",
        "res_disk_tsne = runner.run(\n",
        "    \"dire:disk_uniform\",\n",
        "    dataset_kwargs=dict(n_samples=100_000, n_features=2, random_state=42),\n",
        ")"
      ],
      "metadata": {
        "id": "X_NXwXIJYnCG"
      },
      "execution_count": null,
      "outputs": []
    },
    {
      "cell_type": "markdown",
      "source": [
        "### Uniform Distribution on a Sphere"
      ],
      "metadata": {
        "id": "ahU33xKkXuZc"
      }
    },
    {
      "cell_type": "code",
      "source": [
        "runner = ReducerRunner(dire_config)\n",
        "res_sphere_dire = runner.run(\n",
        "    \"dire:sphere_uniform\",\n",
        "    dataset_kwargs=dict(n_samples=100_000, n_features=3, random_state=42),\n",
        ")"
      ],
      "metadata": {
        "id": "o80g06BiSZ77"
      },
      "execution_count": null,
      "outputs": []
    },
    {
      "cell_type": "code",
      "source": [
        "runner = ReducerRunner(umap_config)\n",
        "res_sphere_umap = runner.run(\n",
        "    \"dire:sphere_uniform\",\n",
        "    dataset_kwargs=dict(n_samples=10_000, n_features=3, random_state=42),\n",
        ")"
      ],
      "metadata": {
        "id": "JBy_79s5Y_bt"
      },
      "execution_count": null,
      "outputs": []
    },
    {
      "cell_type": "code",
      "source": [
        "runner = ReducerRunner(tsne_config)\n",
        "res_sphere_tsne = runner.run(\n",
        "    \"dire:sphere_uniform\",\n",
        "    dataset_kwargs=dict(n_samples=100_000, n_features=3, random_state=42),\n",
        ")"
      ],
      "metadata": {
        "id": "emA0f6OCZNqB"
      },
      "execution_count": null,
      "outputs": []
    },
    {
      "cell_type": "markdown",
      "source": [
        "### Uniform Distribution on an Ellipsoid"
      ],
      "metadata": {
        "id": "dBd-UTDYX3DZ"
      }
    },
    {
      "cell_type": "code",
      "source": [
        "runner = ReducerRunner(dire_config)\n",
        "res_blobs_dire = runner.run(\n",
        "    \"dire:ellipsoid_uniform\",\n",
        "    dataset_kwargs=dict(n_samples=100_000, semi_axes=[2,3,5], random_state=42),\n",
        ")"
      ],
      "metadata": {
        "id": "BMqaOgiDX9u_"
      },
      "execution_count": null,
      "outputs": []
    },
    {
      "cell_type": "code",
      "source": [
        "runner = ReducerRunner(umap_config)\n",
        "res_blobs_umap = runner.run(\n",
        "    \"dire:ellipsoid_uniform\",\n",
        "    dataset_kwargs=dict(n_samples=50_000, semi_axes=[2,3,5], random_state=42),\n",
        ")"
      ],
      "metadata": {
        "id": "cVBE279ocUdD"
      },
      "execution_count": null,
      "outputs": []
    },
    {
      "cell_type": "code",
      "source": [
        "runner = ReducerRunner(tsne_config)\n",
        "res_blobs_tsne = runner.run(\n",
        "    \"dire:ellipsoid_uniform\",\n",
        "    dataset_kwargs=dict(n_samples=100_000, semi_axes=[2,3,5], random_state=42),\n",
        ")"
      ],
      "metadata": {
        "id": "TYuj3_JWcfMo"
      },
      "execution_count": null,
      "outputs": []
    },
    {
      "cell_type": "markdown",
      "metadata": {
        "id": "ZRPW420upgal"
      },
      "source": [
        "### MNIST Digits (small)"
      ]
    },
    {
      "cell_type": "code",
      "execution_count": null,
      "metadata": {
        "id": "p-k6KNprzoZE"
      },
      "outputs": [],
      "source": [
        "# MNIST Digits (small)\n",
        "runner = ReducerRunner(dire_config)\n",
        "res_digits_dire = runner.run(\n",
        "    \"sklearn:load_digits\",\n",
        "    dataset_kwargs=dict(),\n",
        "    )"
      ]
    },
    {
      "cell_type": "code",
      "execution_count": null,
      "metadata": {
        "id": "WKeKQqQGWIxQ"
      },
      "outputs": [],
      "source": [
        "# MNIST Digits (small)\n",
        "runner = ReducerRunner(umap_config)\n",
        "res_digits_umap = runner.run(\n",
        "    \"sklearn:load_digits\",\n",
        "    dataset_kwargs=dict(),\n",
        "    )"
      ]
    },
    {
      "cell_type": "code",
      "execution_count": null,
      "metadata": {
        "id": "42nUNqq-XnHr"
      },
      "outputs": [],
      "source": [
        "# MNIST Digits (small)\n",
        "runner = ReducerRunner(tsne_config)\n",
        "res_digits_tsne = runner.run(\n",
        "    \"sklearn:load_digits\",\n",
        "    dataset_kwargs=dict(),\n",
        "    )"
      ]
    },
    {
      "cell_type": "markdown",
      "metadata": {
        "id": "MuZRq-vHpjnR"
      },
      "source": [
        "### Half-moons"
      ]
    },
    {
      "cell_type": "code",
      "execution_count": null,
      "metadata": {
        "id": "TPkjmEFK7_9w"
      },
      "outputs": [],
      "source": [
        "#\n",
        "runner = ReducerRunner(dire_config)\n",
        "res_moons_dire = runner.run(\n",
        "    \"sklearn:moons\",\n",
        "    dataset_kwargs=dict(n_samples=100_000, noise=0.05, random_state=42),\n",
        "    )"
      ]
    },
    {
      "cell_type": "code",
      "execution_count": null,
      "metadata": {
        "id": "hjGajq3E-bxD"
      },
      "outputs": [],
      "source": [
        "runner = ReducerRunner(umap_config)\n",
        "res_moons_umap = runner.run(\n",
        "    \"sklearn:moons\",\n",
        "    dataset_kwargs=dict(n_samples=50_000, noise=0.05, random_state=42), # 100_000 may as well break cuML UMAP - on T4 it failed\n",
        "    )"
      ]
    },
    {
      "cell_type": "code",
      "execution_count": null,
      "metadata": {
        "id": "9emqFmjKcw06"
      },
      "outputs": [],
      "source": [
        "runner = ReducerRunner(tsne_config)\n",
        "res_moons_tsne = runner.run(\n",
        "    \"sklearn:moons\",\n",
        "    dataset_kwargs=dict(n_samples=100_000, noise=0.05, random_state=42),\n",
        "    )"
      ]
    },
    {
      "cell_type": "markdown",
      "metadata": {
        "id": "U2ZGUls5plpN"
      },
      "source": [
        "### Swiss roll"
      ]
    },
    {
      "cell_type": "code",
      "execution_count": null,
      "metadata": {
        "id": "bgncubMa7_kx"
      },
      "outputs": [],
      "source": [
        "dire_config.categorical_labels = False\n",
        "runner = ReducerRunner(dire_config)\n",
        "res_swiss_dire = runner.run(\n",
        "    \"sklearn:swiss_roll\",\n",
        "    dataset_kwargs=dict(n_samples=25_000, noise=0.05, random_state=42),\n",
        "    )"
      ]
    },
    {
      "cell_type": "code",
      "execution_count": null,
      "metadata": {
        "id": "YCN9xzUZ3Yyb"
      },
      "outputs": [],
      "source": [
        "umap_config.categorical_labels = False\n",
        "runner = ReducerRunner(umap_config)\n",
        "res_swiss_umap = runner.run(\n",
        "    \"sklearn:swiss_roll\",\n",
        "    dataset_kwargs=dict(n_samples=25_000, noise=0.05, random_state=42),\n",
        "    )"
      ]
    },
    {
      "cell_type": "code",
      "execution_count": null,
      "metadata": {
        "id": "nUmlZGSq3eWB"
      },
      "outputs": [],
      "source": [
        "tsne_config.categorical_labels = False\n",
        "runner = ReducerRunner(tsne_config)\n",
        "res_swiss_tsne = runner.run(\n",
        "    \"sklearn:swiss_roll\",\n",
        "    dataset_kwargs=dict(n_samples=25_000, noise=0.05, random_state=42),\n",
        "    )"
      ]
    },
    {
      "cell_type": "markdown",
      "metadata": {
        "id": "QrFWRGJ7pocE"
      },
      "source": [
        "### UCI ML Wine dataset"
      ]
    },
    {
      "cell_type": "code",
      "execution_count": null,
      "metadata": {
        "id": "SKRQUHNaZ6l5"
      },
      "outputs": [],
      "source": [
        "dire_config.categorical_labels = True\n",
        "runner = ReducerRunner(dire_config)\n",
        "res_wine_dire = runner.run(\n",
        "    \"sklearn:wine\",\n",
        "    dataset_kwargs=dict(random_state=42),\n",
        "    )"
      ]
    },
    {
      "cell_type": "markdown",
      "metadata": {
        "id": "RYoePVTqp1ff"
      },
      "source": [
        "### New runner: PCA + DiRe for Classification dataset"
      ]
    },
    {
      "cell_type": "code",
      "execution_count": null,
      "metadata": {
        "id": "qHTasVjpcWRu"
      },
      "outputs": [],
      "source": [
        "hd_dire_config = ReducerConfig(\n",
        "    name='hd_dire',\n",
        "    reducer_class=create_dire,\n",
        "    reducer_kwargs=dict(\n",
        "        backend='auto',\n",
        "        memory_efficient=True,\n",
        "        n_components=2,\n",
        "        n_neighbors=32,\n",
        "        init='pca',\n",
        "        max_iter_layout=128,\n",
        "        min_dist=1e-4,\n",
        "        spread=2.0,\n",
        "        cutoff=16.0,\n",
        "        n_sample_dirs=4,\n",
        "        sample_size=16,\n",
        "        neg_ratio=32,\n",
        "        random_state=42,\n",
        "        verbose=True,\n",
        "        ),\n",
        "    visualize=True,\n",
        "    categorical_labels=True,\n",
        ")\n",
        "\n",
        "\n",
        "# --- PCA *before* kNN ---\n",
        "def pca_factory(n_components=128, whiten: bool = False, random_state: int = 42):\n",
        "    \"\"\"\n",
        "    PCA reducer for high-dim inputs. Uses cuML if available (and backend in {'auto','cuml'}),\n",
        "    otherwise scikit-learn. No z-scoring; PCA centers data internally.\n",
        "    \"\"\"\n",
        "\n",
        "    # --- Check if cuML is available ---\n",
        "    try:\n",
        "        from cuml.decomposition import PCA as cuPCA\n",
        "        _HAS_CUML = True\n",
        "    except Exception:\n",
        "        _HAS_CUML = False\n",
        "\n",
        "    if _HAS_CUML:\n",
        "        # --- cuML PCA ---\n",
        "        def _pca(X, y):\n",
        "          X = np.asarray(X, dtype=np.float32, copy=False)\n",
        "          k = int(min(n_components, X.shape[1]))\n",
        "          pca = cuPCA(n_components=k, whiten=whiten)\n",
        "          Xr = pca.fit_transform(X)\n",
        "          # label coercion kept consistent with runner\n",
        "          if y is not None and getattr(y, \"dtype\", None) is not None and y.dtype.kind in {\"U\",\"S\",\"O\"}:\n",
        "            uniq = {v: i for i, v in enumerate(np.unique(y))}\n",
        "            y = np.array([uniq[v] for v in y], dtype=np.int32)\n",
        "          return np.asarray(Xr, dtype=np.float32, copy=False), y\n",
        "    else:\n",
        "        # --- scikit-learn PCA ---\n",
        "        from sklearn.decomposition import PCA\n",
        "        def _pca(X, y):\n",
        "          X = np.asarray(X, dtype=np.float32, copy=False)\n",
        "          k = int(min(n_components, X.shape[1]))\n",
        "          svd_solver = \"randomized\" if k < min(X.shape[0], X.shape[1]) else \"full\"\n",
        "          pca = PCA(n_components=k, whiten=whiten, svd_solver=svd_solver, random_state=random_state)\n",
        "          Xr = pca.fit_transform(X)\n",
        "          # label coercion kept consistent with runner\n",
        "          if y is not None and getattr(y, \"dtype\", None) is not None and y.dtype.kind in {\"U\",\"S\",\"O\"}:\n",
        "            uniq = {v: i for i, v in enumerate(np.unique(y))}\n",
        "            y = np.array([uniq[v] for v in y], dtype=np.int32)\n",
        "          return np.asarray(Xr, dtype=np.float32, copy=False), y\n",
        "\n",
        "    return _pca\n",
        "\n",
        "# Here having redundant features helps separating the two classes in 2D, while too many informative features make it harder\n",
        "# Smaller sample size with higher negative sampling ratio makes clusters more pronounced\n",
        "hd_runner = ReducerRunner(hd_dire_config, default_transform=pca_factory(n_components=64, random_state=42))\n",
        "res_classification_dire = hd_runner.run(\n",
        "    \"sklearn:classification\",\n",
        "    dataset_kwargs=dict(n_samples=10_000, n_features=2_048, n_informative=32, n_redundant=64, n_repeated=4, n_clusters_per_class=4, random_state=42),\n",
        "    )"
      ]
    },
    {
      "cell_type": "code",
      "execution_count": null,
      "metadata": {
        "id": "J12-vVtV6G2i"
      },
      "outputs": [],
      "source": [
        "umap_config.categorical_labels=True\n",
        "hd_runner = ReducerRunner(umap_config, default_transform=pca_factory(n_components=64, random_state=42))\n",
        "res_classification_umap = hd_runner.run(\n",
        "    \"sklearn:classification\",\n",
        "    dataset_kwargs=dict(n_samples=10_000, n_features=2_048, n_informative=32, n_redundant=64, n_repeated=4, n_clusters_per_class=4, random_state=42),\n",
        "    )"
      ]
    },
    {
      "cell_type": "code",
      "execution_count": null,
      "metadata": {
        "id": "Mp9SMtZ19Bmy"
      },
      "outputs": [],
      "source": [
        "tsne_config.categorical_labels=True\n",
        "hd_runner = ReducerRunner(tsne_config, default_transform=pca_factory(n_components=64, random_state=42))\n",
        "res_classification_umap = hd_runner.run(\n",
        "    \"sklearn:classification\",\n",
        "    dataset_kwargs=dict(n_samples=10_000, n_features=2_048, n_informative=32, n_redundant=64, n_repeated=4, n_clusters_per_class=4, random_state=42),\n",
        "    )"
      ]
    },
    {
      "cell_type": "markdown",
      "metadata": {
        "id": "7TEeqgs4qBoI"
      },
      "source": [
        "## OpenML Datasets"
      ]
    },
    {
      "cell_type": "code",
      "execution_count": null,
      "metadata": {
        "id": "TFSjvXIviQvU"
      },
      "outputs": [],
      "source": [
        "openml_dire_config = ReducerConfig(\n",
        "    name='openml_dire',\n",
        "    reducer_class=create_dire,\n",
        "    reducer_kwargs=dict(\n",
        "        backend='auto',\n",
        "        memory_efficient=True,\n",
        "        n_components=2,\n",
        "        n_neighbors=24,\n",
        "        init='pca',\n",
        "        max_iter_layout=128,\n",
        "        min_dist=1e-2,\n",
        "        spread=2.0,\n",
        "        cutoff=16.0,\n",
        "        n_sample_dirs=4,\n",
        "        sample_size=32,\n",
        "        neg_ratio=16,\n",
        "        random_state=42,\n",
        "        verbose=True,\n",
        "        ),\n",
        "    visualize=True,\n",
        "    categorical_labels=True,\n",
        ")"
      ]
    },
    {
      "cell_type": "markdown",
      "metadata": {
        "id": "WqNdpWo8qFGN"
      },
      "source": [
        "### MNIST Digits (70k)"
      ]
    },
    {
      "cell_type": "code",
      "execution_count": null,
      "metadata": {
        "id": "cTkqJ9b2e5Io"
      },
      "outputs": [],
      "source": [
        "# --- MNIST (70k, 784d) ---------------------------------------------\n",
        "openml_runner = ReducerRunner(openml_dire_config, default_transform=scale_center)\n",
        "res_mnist_dire = openml_runner.run(\n",
        "    \"openml:mnist_784\",                  # OpenML dataset id 554\n",
        "    dataset_kwargs=dict(as_frame=False, cache=True),\n",
        ")"
      ]
    },
    {
      "cell_type": "code",
      "execution_count": null,
      "metadata": {
        "id": "37TM4HVV_dRj"
      },
      "outputs": [],
      "source": [
        "openml_runner = ReducerRunner(umap_config, default_transform=scale_center)\n",
        "res_mnist_umap = openml_runner.run(\n",
        "    \"openml:mnist_784\",                  # OpenML dataset id 554\n",
        "    dataset_kwargs=dict(as_frame=False, cache=True),\n",
        ")"
      ]
    },
    {
      "cell_type": "code",
      "execution_count": null,
      "metadata": {
        "id": "ieRaZPqr_v0h"
      },
      "outputs": [],
      "source": [
        "openml_runner = ReducerRunner(tsne_config, default_transform=scale_center)\n",
        "res_mnist_tsne = openml_runner.run(\n",
        "    \"openml:mnist_784\",                  # OpenML dataset id 554\n",
        "    dataset_kwargs=dict(as_frame=False, cache=True),\n",
        ")"
      ]
    },
    {
      "cell_type": "markdown",
      "metadata": {
        "id": "rE9pQU0aqKTy"
      },
      "source": [
        "### Fashion MNIST"
      ]
    },
    {
      "cell_type": "code",
      "execution_count": null,
      "metadata": {
        "id": "0BHZn-Z8e_kL"
      },
      "outputs": [],
      "source": [
        "# --- Fashion-MNIST (70k, 784d) -------------------------------------\n",
        "openml_runner = ReducerRunner(openml_dire_config, default_transform=scale_center)\n",
        "res_fashion_dire = openml_runner.run(\n",
        "    \"openml:Fashion-MNIST\",               # OpenML dataset id 40996\n",
        "    dataset_kwargs=dict(as_frame=False, cache=True),\n",
        ")"
      ]
    },
    {
      "cell_type": "code",
      "source": [
        "openml_runner = ReducerRunner(umap_config, default_transform=scale_center)\n",
        "res_fashion_umap = openml_runner.run(\n",
        "    \"openml:Fashion-MNIST\",               # OpenML dataset id 40996\n",
        "    dataset_kwargs=dict(as_frame=False, cache=True),\n",
        ")"
      ],
      "metadata": {
        "id": "NdKTvQ9N8HGV"
      },
      "execution_count": null,
      "outputs": []
    },
    {
      "cell_type": "code",
      "source": [
        "openml_runner = ReducerRunner(tsne_config, default_transform=scale_center)\n",
        "res_fashion_tsne = openml_runner.run(\n",
        "    \"openml:Fashion-MNIST\",               # OpenML dataset id 40996\n",
        "    dataset_kwargs=dict(as_frame=False, cache=True),\n",
        ")"
      ],
      "metadata": {
        "id": "jM37zW-u-PKe"
      },
      "execution_count": null,
      "outputs": []
    },
    {
      "cell_type": "markdown",
      "metadata": {
        "id": "l7fd3T5KqN6C"
      },
      "source": [
        "### UCI HAR Smartphones dataset"
      ]
    },
    {
      "cell_type": "code",
      "execution_count": null,
      "metadata": {
        "id": "mUo4pa2oddpz"
      },
      "outputs": [],
      "source": [
        "# --- UCI HAR (Smartphones) (10k, 561d) -----------------------------\n",
        "openml_runner = ReducerRunner(openml_dire_config, default_transform=z_score)\n",
        "res_har_dire = openml_runner.run(\n",
        "    \"openml:4153\",                       # Smartphone-Based HAR\n",
        "    dataset_kwargs=dict(as_frame=False, cache=True),\n",
        ")"
      ]
    },
    {
      "cell_type": "code",
      "source": [
        "openml_runner = ReducerRunner(umap_config, default_transform=z_score)\n",
        "res_har_umap = openml_runner.run(\n",
        "    \"openml:4153\",                       # Smartphone-Based HAR\n",
        "    dataset_kwargs=dict(as_frame=False, cache=True),\n",
        ")"
      ],
      "metadata": {
        "id": "E70rTv4g_kaH"
      },
      "execution_count": null,
      "outputs": []
    },
    {
      "cell_type": "code",
      "source": [
        "openml_runner = ReducerRunner(tsne_config, default_transform=z_score)\n",
        "res_har_tsne = openml_runner.run(\n",
        "    \"openml:4153\",                       # Smartphone-Based HAR\n",
        "    dataset_kwargs=dict(as_frame=False, cache=True),\n",
        ")"
      ],
      "metadata": {
        "id": "5WHWuUOW_qa5"
      },
      "execution_count": null,
      "outputs": []
    },
    {
      "cell_type": "markdown",
      "metadata": {
        "id": "oAsHRbXbqU0O"
      },
      "source": [
        "## Cytology datasets (Levine)"
      ]
    },
    {
      "cell_type": "code",
      "execution_count": null,
      "metadata": {
        "id": "d45k0JjNdjRU"
      },
      "outputs": [],
      "source": [
        "cyto_dire_config = ReducerConfig(\n",
        "    name='cyto',\n",
        "    reducer_class=create_dire,\n",
        "    reducer_kwargs=dict(\n",
        "                   n_components=2,\n",
        "                   n_neighbors=64,\n",
        "                   init='pca',\n",
        "                   max_iter_layout=64,\n",
        "                   min_dist=1e-4,\n",
        "                   spread=1.0,\n",
        "                   cutoff=4.0,\n",
        "                   n_sample_dirs=16,\n",
        "                   sample_size=16,\n",
        "                   neg_ratio=4,\n",
        "                   random_state=42,\n",
        "                   verbose=True,\n",
        "                   ),\n",
        "    visualize=True,\n",
        "    categorical_labels=True,\n",
        ")"
      ]
    },
    {
      "cell_type": "markdown",
      "metadata": {
        "id": "H1cMdBnWqaGg"
      },
      "source": [
        "### Levine 13"
      ]
    },
    {
      "cell_type": "code",
      "execution_count": null,
      "metadata": {
        "id": "71Q1hknV6_G7"
      },
      "outputs": [],
      "source": [
        "cyto_runner = ReducerRunner(cyto_dire_config)\n",
        "res_levine13_dire = cyto_runner.run(\n",
        "    \"cytof:levine13\",\n",
        "    dataset_kwargs=dict(arcsinh_cofactor=5.0,\n",
        "                        drop_unassigned=True)\n",
        ")"
      ]
    },
    {
      "cell_type": "code",
      "execution_count": null,
      "metadata": {
        "id": "68sw6RmxPsz9"
      },
      "outputs": [],
      "source": [
        "umap_config.visualize=True\n",
        "umap_config.categorical_labels=True\n",
        "cyto_runner = ReducerRunner(umap_config)\n",
        "res_levine13_umap = cyto_runner.run(\n",
        "    \"cytof:levine13\",\n",
        "    dataset_kwargs=dict(arcsinh_cofactor=5.0,\n",
        "                        drop_unassigned=True)\n",
        ")"
      ]
    },
    {
      "cell_type": "code",
      "execution_count": null,
      "metadata": {
        "id": "9xGu6kHlQIBc"
      },
      "outputs": [],
      "source": [
        "tsne_config.visualize=True\n",
        "tsne_config.categorical_labels=True\n",
        "cyto_runner = ReducerRunner(tsne_config)\n",
        "res_levine13_tsne = cyto_runner.run(\n",
        "    \"cytof:levine13\",\n",
        "    dataset_kwargs=dict(arcsinh_cofactor=5.0,\n",
        "                        drop_unassigned=True)\n",
        ")"
      ]
    },
    {
      "cell_type": "markdown",
      "metadata": {
        "id": "NRVe4YPoqj0a"
      },
      "source": [
        "### Levine 32"
      ]
    },
    {
      "cell_type": "code",
      "execution_count": null,
      "metadata": {
        "id": "wbqec6URl5xm"
      },
      "outputs": [],
      "source": [
        "cyto_runner = ReducerRunner(cyto_dire_config)\n",
        "res_levine32_dire = cyto_runner.run(\n",
        "    \"cytof:levine32\",\n",
        "    dataset_kwargs=dict(arcsinh_cofactor=5.0,\n",
        "                        drop_unassigned=True)\n",
        ")"
      ]
    }
  ],
  "metadata": {
    "accelerator": "GPU",
    "colab": {
      "gpuType": "T4",
      "machine_shape": "hm",
      "provenance": [],
      "private_outputs": true
    },
    "kernelspec": {
      "display_name": "Python 3",
      "name": "python3"
    },
    "language_info": {
      "name": "python"
    }
  },
  "nbformat": 4,
  "nbformat_minor": 0
}